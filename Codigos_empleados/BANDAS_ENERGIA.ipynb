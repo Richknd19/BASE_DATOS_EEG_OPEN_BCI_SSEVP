{
 "cells": [
  {
   "cell_type": "markdown",
   "metadata": {},
   "source": [
    "# CALCULO DE LAS BANDAS DE ENERGIA"
   ]
  },
  {
   "cell_type": "code",
   "execution_count": null,
   "metadata": {},
   "outputs": [],
   "source": [
    "import pandas as pd \n",
    "import matplotlib.pyplot as plt"
   ]
  },
  {
   "cell_type": "code",
   "execution_count": null,
   "metadata": {},
   "outputs": [],
   "source": [
    "from scipy.signal import butter, lfilter\n",
    "\n",
    "def butter_bandpass(lowcut, highcut, fs, order=5):\n",
    "    nyq = 0.5 * fs\n",
    "    low = lowcut / nyq\n",
    "    high = highcut / nyq\n",
    "    b, a = butter(order, [low, high], btype='bandpass')\n",
    "    return b, a\n",
    "\n",
    "\n",
    "def butter_bandpass_filter(data, lowcut, highcut, fs, order=5):\n",
    "    b, a = butter_bandpass(lowcut, highcut, fs, order=order)\n",
    "    y = lfilter(b, a, data)\n",
    "    return y"
   ]
  },
  {
   "cell_type": "code",
   "execution_count": null,
   "metadata": {},
   "outputs": [],
   "source": [
    "import pandas as pd\n",
    "fs = 250\n",
    "lowcut = 2\n",
    "highcut = 30\n",
    "# Señal EEG de ejemplo\n",
    "\n",
    "sen = pd.read_csv(\"../3 canales/LAU/1/arriba\",delimiter=\";\")\n",
    "eeg_signal = sen['2']\n",
    "\n",
    "sig = butter_bandpass_filter(eeg_signal, lowcut, highcut, fs, order=6)\n",
    "\n",
    "# Definir la frecuencia de muestreo\n",
    "fs = 250\n",
    "\n",
    "# Calcular la transformada de Fourier de la señal EEG\n",
    "frequencies, power_spectrum = signal.welch(sig, fs, nperseg=512)\n",
    "\n",
    "# Definir los límites de frecuencia para cada banda\n",
    "delta_band = (0.5, 4)     # delta\n",
    "theta_band = (4, 8)       # theta\n",
    "alpha_band = (8, 12)      # alpha\n",
    "beta_band = (12, 30)      # beta\n",
    "gamma_band = (30, 100)    # gamma\n",
    "\n",
    "# Calcular la energía de la señal en cada banda de frecuencia\n",
    "delta_power = np.trapz(power_spectrum[(frequencies >= delta_band[0]) & (frequencies < delta_band[1])])\n",
    "theta_power = np.trapz(power_spectrum[(frequencies >= theta_band[0]) & (frequencies < theta_band[1])])\n",
    "alpha_power = np.trapz(power_spectrum[(frequencies >= alpha_band[0]) & (frequencies < alpha_band[1])])\n",
    "beta_power = np.trapz(power_spectrum[(frequencies >= beta_band[0]) & (frequencies < beta_band[1])])\n",
    "gamma_power = np.trapz(power_spectrum[(frequencies >= gamma_band[0]) & (frequencies < gamma_band[1])])\n",
    "\n",
    "# Imprimir los resultados\n",
    "print(\"Delta power:\", delta_power)\n",
    "print(\"Theta power:\", theta_power)\n",
    "print(\"Alpha power:\", alpha_power)\n",
    "print(\"Beta power:\", beta_power)\n",
    "print(\"Gamma power:\", gamma_power)"
   ]
  },
  {
   "cell_type": "code",
   "execution_count": null,
   "metadata": {},
   "outputs": [],
   "source": [
    "\n",
    "data = pd.DataFrame(data = (theta_power,delta_power,alpha_power,beta_power,gamma_power),\n",
    "                    index=('Theta', 'Delta', 'Alpha', 'Beta','Gamma'))\n",
    "total = data.sum(axis=1)\n",
    "plt.bar(total.index, total)\n",
    "plt.title(\"BANDAS DE ENERGIA ESTIMULO DE LA ARRIBA\")\n",
    "plt.xlabel(\"RITMOS CEREBRALES\")\n",
    "plt.ylabel(\"mV\")\n",
    "plt.show()"
   ]
  }
 ],
 "metadata": {
  "language_info": {
   "name": "python"
  },
  "orig_nbformat": 4
 },
 "nbformat": 4,
 "nbformat_minor": 2
}
